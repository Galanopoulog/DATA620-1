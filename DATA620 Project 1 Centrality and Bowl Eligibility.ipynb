{
 "cells": [
  {
   "cell_type": "markdown",
   "metadata": {},
   "source": [
    "# DATA620 Project 1\n",
    "## Does Centrality Inform us of the Bowl Eligibility of FBS Teams?\n",
    "### Erik Nylander"
   ]
  },
  {
   "cell_type": "markdown",
   "metadata": {},
   "source": [
    "### Introduction\n",
    "In this project we ask if the centrality of team has any impact on a NCAA Division I Football Bowl Subdivision (FBS) teams bowl eligibility. To answer this question I have identified a rather interesting data set that contains the full 2010 FBS results. Each row of the data set contains the date of the game, the two teams that played and each team's score. The original data set also contains the location of the game if it was played at a neutral site. This data set was put together by James Howell and can be found on his website at http://homepages.cae.wisc.edu/~dwilson/rsfc/history/howell/cf2010gms.txt. \n",
    "\n",
    "Unfortunately the original data set was well formated for human readability but was mostly useless for the machine reading. To facillitate using the data I did some basica data cleaning and posted the data on my own GitHub site which can be found at https://github.com/eriknylander99/DATA620/blob/master/data/cf2010gms-clean.txt. This dataset is in comma separated format and contains a header on the third line with the first two lines being the authors attribution. \n",
    "\n",
    "The code below imports the 2010 FBS season data and begins the construction of a new data set that we have called record. This data set contains all of the teams that played in the 2010 season along with their wins, losses, winning percentage, bowl eligibility, and the columns for the various centrality measures. Before we move on let's discuss what makes a team bowl eligible. A FBS team is eligible to play in a postseason 'bowl game' if they have compiled a winning percentage of at least 50% or if they are from a large conference and win their conference championship game. For this analysis we will be using the first criterion as there has yet to be a team that made it to their conference championship game without winning at least half of their games. There is also an odd edge case that we are not including in this analysis. A team may become bowl eligible with a win loss record of less than 50% if there are not enough teams with a winning percentage above 50% to fill all of the games. This does happen occasionally but it does not happen in this data set."
   ]
  },
  {
   "cell_type": "code",
   "execution_count": 1,
   "metadata": {
    "collapsed": true
   },
   "outputs": [],
   "source": [
    "# Loading the packages needed for this project\n",
    "%matplotlib inline\n",
    "import networkx as nx\n",
    "import pandas as pd\n",
    "from scipy import stats\n",
    "import matplotlib\n",
    "matplotlib.style.use('ggplot')\n",
    "from __future__ import division"
   ]
  },
  {
   "cell_type": "markdown",
   "metadata": {},
   "source": [
    "### Loading the Data\n",
    "The data set contains the entire seasons including the bowl games that are played at the end of the season. We start by subsetting our data to only include games that are played before the end of the regular season on December 11th with the Army - Navy game."
   ]
  },
  {
   "cell_type": "code",
   "execution_count": 2,
   "metadata": {
    "collapsed": false
   },
   "outputs": [],
   "source": [
    "# Reading the data into a pandas data frame\n",
    "season = pd.read_csv('https://raw.githubusercontent.com/eriknylander99/DATA620/master/data/cf2010gms-clean.txt', header = 2)\n",
    "\n",
    "# Convert the Date columns to actual date format\n",
    "season['Date'] = pd.to_datetime(season['Date'], infer_datetime_format=True)"
   ]
  },
  {
   "cell_type": "code",
   "execution_count": 3,
   "metadata": {
    "collapsed": false
   },
   "outputs": [
    {
     "data": {
      "text/html": [
       "<div>\n",
       "<table border=\"1\" class=\"dataframe\">\n",
       "  <thead>\n",
       "    <tr style=\"text-align: right;\">\n",
       "      <th></th>\n",
       "      <th>Date</th>\n",
       "      <th>Team1</th>\n",
       "      <th>Team1_Score</th>\n",
       "      <th>Team2</th>\n",
       "      <th>Team2_Score</th>\n",
       "    </tr>\n",
       "  </thead>\n",
       "  <tbody>\n",
       "    <tr>\n",
       "      <th>0</th>\n",
       "      <td>2010-09-02</td>\n",
       "      <td>Eastern Washington</td>\n",
       "      <td>24</td>\n",
       "      <td>Nevada</td>\n",
       "      <td>49</td>\n",
       "    </tr>\n",
       "    <tr>\n",
       "      <th>1</th>\n",
       "      <td>2010-09-02</td>\n",
       "      <td>Florida A&amp;M</td>\n",
       "      <td>0</td>\n",
       "      <td>Miami (Florida)</td>\n",
       "      <td>45</td>\n",
       "    </tr>\n",
       "    <tr>\n",
       "      <th>2</th>\n",
       "      <td>2010-09-02</td>\n",
       "      <td>Florida Atlantic</td>\n",
       "      <td>32</td>\n",
       "      <td>Alabama-Birmingham</td>\n",
       "      <td>31</td>\n",
       "    </tr>\n",
       "    <tr>\n",
       "      <th>3</th>\n",
       "      <td>2010-09-02</td>\n",
       "      <td>Hampton</td>\n",
       "      <td>0</td>\n",
       "      <td>Central Michigan</td>\n",
       "      <td>33</td>\n",
       "    </tr>\n",
       "    <tr>\n",
       "      <th>4</th>\n",
       "      <td>2010-09-02</td>\n",
       "      <td>Marshall</td>\n",
       "      <td>7</td>\n",
       "      <td>Ohio State</td>\n",
       "      <td>45</td>\n",
       "    </tr>\n",
       "  </tbody>\n",
       "</table>\n",
       "</div>"
      ],
      "text/plain": [
       "        Date               Team1  Team1_Score               Team2  Team2_Score\n",
       "0 2010-09-02  Eastern Washington           24              Nevada           49\n",
       "1 2010-09-02         Florida A&M            0     Miami (Florida)           45\n",
       "2 2010-09-02    Florida Atlantic           32  Alabama-Birmingham           31\n",
       "3 2010-09-02             Hampton            0    Central Michigan           33\n",
       "4 2010-09-02            Marshall            7          Ohio State           45"
      ]
     },
     "execution_count": 3,
     "metadata": {},
     "output_type": "execute_result"
    }
   ],
   "source": [
    "# Quick look at the data\n",
    "season.head()"
   ]
  },
  {
   "cell_type": "code",
   "execution_count": 4,
   "metadata": {
    "collapsed": false
   },
   "outputs": [
    {
     "data": {
      "text/html": [
       "<div>\n",
       "<table border=\"1\" class=\"dataframe\">\n",
       "  <thead>\n",
       "    <tr style=\"text-align: right;\">\n",
       "      <th></th>\n",
       "      <th>Date</th>\n",
       "      <th>Team1</th>\n",
       "      <th>Team1_Score</th>\n",
       "      <th>Team2</th>\n",
       "      <th>Team2_Score</th>\n",
       "    </tr>\n",
       "  </thead>\n",
       "  <tbody>\n",
       "    <tr>\n",
       "      <th>768</th>\n",
       "      <td>2010-12-04</td>\n",
       "      <td>Troy</td>\n",
       "      <td>44</td>\n",
       "      <td>Florida Atlantic</td>\n",
       "      <td>7</td>\n",
       "    </tr>\n",
       "    <tr>\n",
       "      <th>769</th>\n",
       "      <td>2010-12-04</td>\n",
       "      <td>Utah State</td>\n",
       "      <td>14</td>\n",
       "      <td>Boise State</td>\n",
       "      <td>50</td>\n",
       "    </tr>\n",
       "    <tr>\n",
       "      <th>770</th>\n",
       "      <td>2010-12-04</td>\n",
       "      <td>Virginia Tech</td>\n",
       "      <td>44</td>\n",
       "      <td>Florida State</td>\n",
       "      <td>33</td>\n",
       "    </tr>\n",
       "    <tr>\n",
       "      <th>771</th>\n",
       "      <td>2010-12-04</td>\n",
       "      <td>Washington</td>\n",
       "      <td>35</td>\n",
       "      <td>Washington State</td>\n",
       "      <td>28</td>\n",
       "    </tr>\n",
       "    <tr>\n",
       "      <th>772</th>\n",
       "      <td>2010-12-11</td>\n",
       "      <td>Navy</td>\n",
       "      <td>31</td>\n",
       "      <td>Army</td>\n",
       "      <td>17</td>\n",
       "    </tr>\n",
       "  </tbody>\n",
       "</table>\n",
       "</div>"
      ],
      "text/plain": [
       "          Date          Team1  Team1_Score             Team2  Team2_Score\n",
       "768 2010-12-04           Troy           44  Florida Atlantic            7\n",
       "769 2010-12-04     Utah State           14       Boise State           50\n",
       "770 2010-12-04  Virginia Tech           44     Florida State           33\n",
       "771 2010-12-04     Washington           35  Washington State           28\n",
       "772 2010-12-11           Navy           31              Army           17"
      ]
     },
     "execution_count": 4,
     "metadata": {},
     "output_type": "execute_result"
    }
   ],
   "source": [
    "# Generating the data frame for the regular season games.(Regular season ends with the Army-Navy on 12/11/2010)\n",
    "reg_season = season[season.Date <= '2010-12-11']\n",
    "reg_season.tail()"
   ]
  },
  {
   "cell_type": "markdown",
   "metadata": {},
   "source": [
    "### Building the Record Data\n",
    "Now that we have our FBS regular season results we can start building our data set that stores our list of teams (Team), their wins (Wins), losses (Loss), games played (Played), win percentage (WLP), bowl eligibility (Bowl_Eligible), degree centrality (degcen), eigenvector centrality (eigencen), closeness centrality (closecen), and betweenness centrality (betweencen). "
   ]
  },
  {
   "cell_type": "code",
   "execution_count": 5,
   "metadata": {
    "collapsed": false
   },
   "outputs": [
    {
     "data": {
      "text/plain": [
       "195"
      ]
     },
     "execution_count": 5,
     "metadata": {},
     "output_type": "execute_result"
    }
   ],
   "source": [
    "# Generating a list of all of the teams in both lists.\n",
    "team1_list = set(reg_season.Team1.unique())\n",
    "team2_list = set(reg_season.Team2.unique())\n",
    "len(team1_list) # Number of unique teams in the Team1 column"
   ]
  },
  {
   "cell_type": "code",
   "execution_count": 6,
   "metadata": {
    "collapsed": false
   },
   "outputs": [
    {
     "data": {
      "text/plain": [
       "195"
      ]
     },
     "execution_count": 6,
     "metadata": {},
     "output_type": "execute_result"
    }
   ],
   "source": [
    "# Joining the two columns to get a unique list of all teams in the data set\n",
    "teams = list(team1_list.union(team2_list))\n",
    "len(teams) # It appears that the Team1 column contains all of the teams in the data set."
   ]
  },
  {
   "cell_type": "code",
   "execution_count": 7,
   "metadata": {
    "collapsed": false
   },
   "outputs": [
    {
     "data": {
      "text/html": [
       "<div>\n",
       "<table border=\"1\" class=\"dataframe\">\n",
       "  <thead>\n",
       "    <tr style=\"text-align: right;\">\n",
       "      <th></th>\n",
       "      <th>Team</th>\n",
       "      <th>Win</th>\n",
       "      <th>Loss</th>\n",
       "      <th>Played</th>\n",
       "      <th>WLP</th>\n",
       "      <th>Bowl_Eligible</th>\n",
       "      <th>degcen</th>\n",
       "      <th>eigencen</th>\n",
       "      <th>closecen</th>\n",
       "      <th>betweencen</th>\n",
       "    </tr>\n",
       "  </thead>\n",
       "  <tbody>\n",
       "    <tr>\n",
       "      <th>0</th>\n",
       "      <td>Air Force</td>\n",
       "      <td>0</td>\n",
       "      <td>0</td>\n",
       "      <td>0</td>\n",
       "      <td>0</td>\n",
       "      <td>No</td>\n",
       "      <td>0</td>\n",
       "      <td>0</td>\n",
       "      <td>0</td>\n",
       "      <td>0</td>\n",
       "    </tr>\n",
       "    <tr>\n",
       "      <th>1</th>\n",
       "      <td>Akron</td>\n",
       "      <td>0</td>\n",
       "      <td>0</td>\n",
       "      <td>0</td>\n",
       "      <td>0</td>\n",
       "      <td>No</td>\n",
       "      <td>0</td>\n",
       "      <td>0</td>\n",
       "      <td>0</td>\n",
       "      <td>0</td>\n",
       "    </tr>\n",
       "    <tr>\n",
       "      <th>2</th>\n",
       "      <td>Alabama</td>\n",
       "      <td>0</td>\n",
       "      <td>0</td>\n",
       "      <td>0</td>\n",
       "      <td>0</td>\n",
       "      <td>No</td>\n",
       "      <td>0</td>\n",
       "      <td>0</td>\n",
       "      <td>0</td>\n",
       "      <td>0</td>\n",
       "    </tr>\n",
       "    <tr>\n",
       "      <th>3</th>\n",
       "      <td>Alabama-Birmingham</td>\n",
       "      <td>0</td>\n",
       "      <td>0</td>\n",
       "      <td>0</td>\n",
       "      <td>0</td>\n",
       "      <td>No</td>\n",
       "      <td>0</td>\n",
       "      <td>0</td>\n",
       "      <td>0</td>\n",
       "      <td>0</td>\n",
       "    </tr>\n",
       "    <tr>\n",
       "      <th>4</th>\n",
       "      <td>Alcorn State</td>\n",
       "      <td>0</td>\n",
       "      <td>0</td>\n",
       "      <td>0</td>\n",
       "      <td>0</td>\n",
       "      <td>No</td>\n",
       "      <td>0</td>\n",
       "      <td>0</td>\n",
       "      <td>0</td>\n",
       "      <td>0</td>\n",
       "    </tr>\n",
       "  </tbody>\n",
       "</table>\n",
       "</div>"
      ],
      "text/plain": [
       "                 Team  Win  Loss  Played  WLP Bowl_Eligible  degcen  eigencen  \\\n",
       "0           Air Force    0     0       0    0            No       0         0   \n",
       "1               Akron    0     0       0    0            No       0         0   \n",
       "2             Alabama    0     0       0    0            No       0         0   \n",
       "3  Alabama-Birmingham    0     0       0    0            No       0         0   \n",
       "4        Alcorn State    0     0       0    0            No       0         0   \n",
       "\n",
       "   closecen  betweencen  \n",
       "0         0           0  \n",
       "1         0           0  \n",
       "2         0           0  \n",
       "3         0           0  \n",
       "4         0           0  "
      ]
     },
     "execution_count": 7,
     "metadata": {},
     "output_type": "execute_result"
    }
   ],
   "source": [
    "# Generating a data frame to contain the wins and losses for each team\n",
    "teams.sort()\n",
    "record = pd.DataFrame({'Team':teams})\n",
    "record['Win'] = 0\n",
    "record['Loss'] = 0\n",
    "record['Played'] = 0\n",
    "record['WLP'] = 0\n",
    "record['Bowl_Eligible'] = 'No' #Setting all teams to ineligible\n",
    "record['degcen'] = 0\n",
    "record['eigencen'] = 0\n",
    "record['closecen'] = 0\n",
    "record['betweencen'] = 0\n",
    "record.head()"
   ]
  },
  {
   "cell_type": "markdown",
   "metadata": {},
   "source": [
    "The code below parses the 772 regular season games and fills in the record data frame for the 195 teams that are in data set. Around 60 of the teams in this data set are from the lower NCAA Football Championship Subdivision (FCS). These FCS teams will be removed before we do our final analysis given that they are ineligible to play in a bowl game but they do count towards an FBS teams win-loss record so they will not be removed until the end."
   ]
  },
  {
   "cell_type": "code",
   "execution_count": 8,
   "metadata": {
    "collapsed": false
   },
   "outputs": [],
   "source": [
    "# Building the Wins and Loses Columns along with the total number of games played.\n",
    "for index, row in reg_season.iterrows():\n",
    "    if row['Team1_Score'] > row['Team2_Score']:\n",
    "        record.loc[record['Team'] == row['Team1'], 'Win'] = record.loc[record['Team'] == row['Team1'], 'Win'] + 1\n",
    "        record.loc[record['Team'] == row['Team1'], 'Played'] = record.loc[record['Team'] == row['Team1'], 'Played'] + 1\n",
    "        record.loc[record['Team'] == row['Team2'], 'Loss'] = record.loc[record['Team'] == row['Team2'], 'Loss'] + 1\n",
    "        record.loc[record['Team'] == row['Team2'], 'Played'] = record.loc[record['Team'] == row['Team2'], 'Played'] + 1\n",
    "    if row['Team1_Score'] < row['Team2_Score']:\n",
    "        record.loc[record['Team'] == row['Team1'], 'Loss'] = record.loc[record['Team'] == row['Team1'], 'Loss'] + 1\n",
    "        record.loc[record['Team'] == row['Team1'], 'Played'] = record.loc[record['Team'] == row['Team1'], 'Played'] + 1\n",
    "        record.loc[record['Team'] == row['Team2'], 'Win'] = record.loc[record['Team'] == row['Team2'], 'Win'] + 1\n",
    "        record.loc[record['Team'] == row['Team2'], 'Played'] = record.loc[record['Team'] == row['Team2'], 'Played'] + 1\n",
    "\n",
    "# Generating the winning percentage or each team.\n",
    "record['WLP'] = record['Win']/record['Played']\n",
    "\n",
    "# Calculating bowl eligibility for each team.\n",
    "for index, row in record.iterrows():\n",
    "    if row['WLP'] >= 0.5:\n",
    "        record.loc[record['Team'] == row['Team'], 'Bowl_Eligible'] = 'Yes'"
   ]
  },
  {
   "cell_type": "code",
   "execution_count": 9,
   "metadata": {
    "collapsed": false
   },
   "outputs": [
    {
     "data": {
      "text/html": [
       "<div>\n",
       "<table border=\"1\" class=\"dataframe\">\n",
       "  <thead>\n",
       "    <tr style=\"text-align: right;\">\n",
       "      <th></th>\n",
       "      <th>Team</th>\n",
       "      <th>Win</th>\n",
       "      <th>Loss</th>\n",
       "      <th>Played</th>\n",
       "      <th>WLP</th>\n",
       "      <th>Bowl_Eligible</th>\n",
       "      <th>degcen</th>\n",
       "      <th>eigencen</th>\n",
       "      <th>closecen</th>\n",
       "      <th>betweencen</th>\n",
       "    </tr>\n",
       "  </thead>\n",
       "  <tbody>\n",
       "    <tr>\n",
       "      <th>0</th>\n",
       "      <td>Air Force</td>\n",
       "      <td>8</td>\n",
       "      <td>4</td>\n",
       "      <td>12</td>\n",
       "      <td>0.666667</td>\n",
       "      <td>Yes</td>\n",
       "      <td>0</td>\n",
       "      <td>0</td>\n",
       "      <td>0</td>\n",
       "      <td>0</td>\n",
       "    </tr>\n",
       "    <tr>\n",
       "      <th>1</th>\n",
       "      <td>Akron</td>\n",
       "      <td>1</td>\n",
       "      <td>11</td>\n",
       "      <td>12</td>\n",
       "      <td>0.083333</td>\n",
       "      <td>No</td>\n",
       "      <td>0</td>\n",
       "      <td>0</td>\n",
       "      <td>0</td>\n",
       "      <td>0</td>\n",
       "    </tr>\n",
       "    <tr>\n",
       "      <th>2</th>\n",
       "      <td>Alabama</td>\n",
       "      <td>9</td>\n",
       "      <td>3</td>\n",
       "      <td>12</td>\n",
       "      <td>0.750000</td>\n",
       "      <td>Yes</td>\n",
       "      <td>0</td>\n",
       "      <td>0</td>\n",
       "      <td>0</td>\n",
       "      <td>0</td>\n",
       "    </tr>\n",
       "    <tr>\n",
       "      <th>3</th>\n",
       "      <td>Alabama-Birmingham</td>\n",
       "      <td>4</td>\n",
       "      <td>8</td>\n",
       "      <td>12</td>\n",
       "      <td>0.333333</td>\n",
       "      <td>No</td>\n",
       "      <td>0</td>\n",
       "      <td>0</td>\n",
       "      <td>0</td>\n",
       "      <td>0</td>\n",
       "    </tr>\n",
       "    <tr>\n",
       "      <th>4</th>\n",
       "      <td>Alcorn State</td>\n",
       "      <td>0</td>\n",
       "      <td>1</td>\n",
       "      <td>1</td>\n",
       "      <td>0.000000</td>\n",
       "      <td>No</td>\n",
       "      <td>0</td>\n",
       "      <td>0</td>\n",
       "      <td>0</td>\n",
       "      <td>0</td>\n",
       "    </tr>\n",
       "  </tbody>\n",
       "</table>\n",
       "</div>"
      ],
      "text/plain": [
       "                 Team  Win  Loss  Played       WLP Bowl_Eligible  degcen  \\\n",
       "0           Air Force    8     4      12  0.666667           Yes       0   \n",
       "1               Akron    1    11      12  0.083333            No       0   \n",
       "2             Alabama    9     3      12  0.750000           Yes       0   \n",
       "3  Alabama-Birmingham    4     8      12  0.333333            No       0   \n",
       "4        Alcorn State    0     1       1  0.000000            No       0   \n",
       "\n",
       "   eigencen  closecen  betweencen  \n",
       "0         0         0           0  \n",
       "1         0         0           0  \n",
       "2         0         0           0  \n",
       "3         0         0           0  \n",
       "4         0         0           0  "
      ]
     },
     "execution_count": 9,
     "metadata": {},
     "output_type": "execute_result"
    }
   ],
   "source": [
    "record.head()"
   ]
  },
  {
   "cell_type": "markdown",
   "metadata": {},
   "source": [
    "### Generating the Graph\n",
    "Now that we have built our data set containing each team's record we now need to construct our graph so that we can compute the different measures of centrality and add those two our data set. When we began this analysis we were unsure of what if any results we would find in the data. We picked this data set to see if there might be any effect on a team's likelihood of becoming bowl eligible based on their connections with other teams. We did think that there might be connection with the teams with high betweenness centrality and bowl eligibility although we are unsure of the direction of the connection. Teams that tend to play a lot of out of conference games and have a higher betweenness centrality may either do this because they are high profile teams that tend to make the playoffs or they are teams that are scheduled because they are considered to be relatively easy wins and don't tend to make the playoffs."
   ]
  },
  {
   "cell_type": "code",
   "execution_count": 12,
   "metadata": {
    "collapsed": true
   },
   "outputs": [],
   "source": [
    "# Generating a network x from the edge list stored in pandas.\n",
    "G = nx.from_pandas_dataframe(reg_season, 'Team1', 'Team2')"
   ]
  },
  {
   "cell_type": "code",
   "execution_count": 13,
   "metadata": {
    "collapsed": false
   },
   "outputs": [
    {
     "data": {
      "text/plain": [
       "195"
      ]
     },
     "execution_count": 13,
     "metadata": {},
     "output_type": "execute_result"
    }
   ],
   "source": [
    "# Calculating the number of teams\n",
    "nx.number_of_nodes(G)"
   ]
  },
  {
   "cell_type": "code",
   "execution_count": 14,
   "metadata": {
    "collapsed": false
   },
   "outputs": [
    {
     "data": {
      "text/plain": [
       "772"
      ]
     },
     "execution_count": 14,
     "metadata": {},
     "output_type": "execute_result"
    }
   ],
   "source": [
    "# Calculating the number of games played.\n",
    "nx.number_of_edges(G)"
   ]
  },
  {
   "cell_type": "markdown",
   "metadata": {},
   "source": [
    "Now that we have our graph we can add our attributes to the nodes. We are adding the bowl eligibility and a color based on the bowl eligibility."
   ]
  },
  {
   "cell_type": "code",
   "execution_count": 15,
   "metadata": {
    "collapsed": false
   },
   "outputs": [],
   "source": [
    "# Adding the Bowl Eligibility attribute to each of the nodes.\n",
    "for n in G.nodes_iter():\n",
    "    G.node[n]['Bowl_Eligible'] = 'No'\n",
    "    G.node[n]['vis'] = {'color': {'r': 255, 'g': 0, 'b': 0, 'a': 0}}\n",
    "for index, row in record.iterrows():\n",
    "    G.node[row['Team']]['Bowl_Eligible'] = row['Bowl_Eligible']\n",
    "    if row['Bowl_Eligible'] == 'Yes':\n",
    "        G.node[row['Team']]['vis'] = {'color': {'r': 0, 'g': 0, 'b': 255, 'a': 0}}"
   ]
  },
  {
   "cell_type": "markdown",
   "metadata": {},
   "source": [
    "Now that we have created our graph we can calculate the various centrality measures for each of the nodes as described above. We do note that the degree centrality is simply the number of games that each team played and therefore we don't expect to see much difference between bowl eligibility based off of this measure. Given this we have elected to calculate a number of other centrality measures as well to discover if any of them have a significant impact on the bowl eligibility."
   ]
  },
  {
   "cell_type": "code",
   "execution_count": 16,
   "metadata": {
    "collapsed": false
   },
   "outputs": [],
   "source": [
    "# Calculating the degree of each of the teams and storing this in our record data frame\n",
    "# This will be the same as the number of games played\n",
    "deg = nx.degree(G) \n",
    "eig = nx.eigenvector_centrality(G)\n",
    "clo = nx.closeness_centrality(G)\n",
    "btw = nx.betweenness_centrality(G)\n",
    "for index, row in record.iterrows():\n",
    "    record.loc[record['Team'] == row['Team'], 'degcen'] = deg[row['Team']]\n",
    "    record.loc[record['Team'] == row['Team'], 'eigencen'] = eig[row['Team']]\n",
    "    record.loc[record['Team'] == row['Team'], 'closecen'] = clo[row['Team']]\n",
    "    record.loc[record['Team'] == row['Team'], 'betweencen'] = btw[row['Team']]"
   ]
  },
  {
   "cell_type": "code",
   "execution_count": 19,
   "metadata": {
    "collapsed": false
   },
   "outputs": [
    {
     "data": {
      "text/html": [
       "<div>\n",
       "<table border=\"1\" class=\"dataframe\">\n",
       "  <thead>\n",
       "    <tr style=\"text-align: right;\">\n",
       "      <th></th>\n",
       "      <th>Team</th>\n",
       "      <th>Win</th>\n",
       "      <th>Loss</th>\n",
       "      <th>Played</th>\n",
       "      <th>WLP</th>\n",
       "      <th>Bowl_Eligible</th>\n",
       "      <th>degcen</th>\n",
       "      <th>eigencen</th>\n",
       "      <th>closecen</th>\n",
       "      <th>betweencen</th>\n",
       "    </tr>\n",
       "  </thead>\n",
       "  <tbody>\n",
       "    <tr>\n",
       "      <th>0</th>\n",
       "      <td>Air Force</td>\n",
       "      <td>8</td>\n",
       "      <td>4</td>\n",
       "      <td>12</td>\n",
       "      <td>0.666667</td>\n",
       "      <td>Yes</td>\n",
       "      <td>12</td>\n",
       "      <td>0.098625</td>\n",
       "      <td>0.347670</td>\n",
       "      <td>0.016706</td>\n",
       "    </tr>\n",
       "    <tr>\n",
       "      <th>1</th>\n",
       "      <td>Akron</td>\n",
       "      <td>1</td>\n",
       "      <td>11</td>\n",
       "      <td>12</td>\n",
       "      <td>0.083333</td>\n",
       "      <td>No</td>\n",
       "      <td>12</td>\n",
       "      <td>0.080959</td>\n",
       "      <td>0.361940</td>\n",
       "      <td>0.026585</td>\n",
       "    </tr>\n",
       "    <tr>\n",
       "      <th>2</th>\n",
       "      <td>Alabama</td>\n",
       "      <td>9</td>\n",
       "      <td>3</td>\n",
       "      <td>12</td>\n",
       "      <td>0.750000</td>\n",
       "      <td>Yes</td>\n",
       "      <td>12</td>\n",
       "      <td>0.079146</td>\n",
       "      <td>0.369524</td>\n",
       "      <td>0.031872</td>\n",
       "    </tr>\n",
       "    <tr>\n",
       "      <th>3</th>\n",
       "      <td>Alabama-Birmingham</td>\n",
       "      <td>4</td>\n",
       "      <td>8</td>\n",
       "      <td>12</td>\n",
       "      <td>0.333333</td>\n",
       "      <td>No</td>\n",
       "      <td>12</td>\n",
       "      <td>0.099143</td>\n",
       "      <td>0.354662</td>\n",
       "      <td>0.007838</td>\n",
       "    </tr>\n",
       "    <tr>\n",
       "      <th>4</th>\n",
       "      <td>Alcorn State</td>\n",
       "      <td>0</td>\n",
       "      <td>1</td>\n",
       "      <td>1</td>\n",
       "      <td>0.000000</td>\n",
       "      <td>No</td>\n",
       "      <td>1</td>\n",
       "      <td>0.007101</td>\n",
       "      <td>0.256954</td>\n",
       "      <td>0.000000</td>\n",
       "    </tr>\n",
       "  </tbody>\n",
       "</table>\n",
       "</div>"
      ],
      "text/plain": [
       "                 Team  Win  Loss  Played       WLP Bowl_Eligible  degcen  \\\n",
       "0           Air Force    8     4      12  0.666667           Yes      12   \n",
       "1               Akron    1    11      12  0.083333            No      12   \n",
       "2             Alabama    9     3      12  0.750000           Yes      12   \n",
       "3  Alabama-Birmingham    4     8      12  0.333333            No      12   \n",
       "4        Alcorn State    0     1       1  0.000000            No       1   \n",
       "\n",
       "   eigencen  closecen  betweencen  \n",
       "0  0.098625  0.347670    0.016706  \n",
       "1  0.080959  0.361940    0.026585  \n",
       "2  0.079146  0.369524    0.031872  \n",
       "3  0.099143  0.354662    0.007838  \n",
       "4  0.007101  0.256954    0.000000  "
      ]
     },
     "execution_count": 19,
     "metadata": {},
     "output_type": "execute_result"
    }
   ],
   "source": [
    "record.head()"
   ]
  },
  {
   "cell_type": "markdown",
   "metadata": {},
   "source": [
    "Now that we have constructed our full data set we can trim this down to just the teams that have played more than 9 games. This ensures that we get only the FBS teams for our final analysis."
   ]
  },
  {
   "cell_type": "code",
   "execution_count": 17,
   "metadata": {
    "collapsed": false
   },
   "outputs": [
    {
     "data": {
      "text/html": [
       "<div>\n",
       "<table border=\"1\" class=\"dataframe\">\n",
       "  <thead>\n",
       "    <tr style=\"text-align: right;\">\n",
       "      <th></th>\n",
       "      <th>Team</th>\n",
       "      <th>Win</th>\n",
       "      <th>Loss</th>\n",
       "      <th>Played</th>\n",
       "      <th>WLP</th>\n",
       "      <th>Bowl_Eligible</th>\n",
       "      <th>degcen</th>\n",
       "      <th>eigencen</th>\n",
       "      <th>closecen</th>\n",
       "      <th>betweencen</th>\n",
       "    </tr>\n",
       "  </thead>\n",
       "  <tbody>\n",
       "    <tr>\n",
       "      <th>0</th>\n",
       "      <td>Air Force</td>\n",
       "      <td>8</td>\n",
       "      <td>4</td>\n",
       "      <td>12</td>\n",
       "      <td>0.666667</td>\n",
       "      <td>Yes</td>\n",
       "      <td>12</td>\n",
       "      <td>0.098625</td>\n",
       "      <td>0.347670</td>\n",
       "      <td>0.016706</td>\n",
       "    </tr>\n",
       "    <tr>\n",
       "      <th>1</th>\n",
       "      <td>Akron</td>\n",
       "      <td>1</td>\n",
       "      <td>11</td>\n",
       "      <td>12</td>\n",
       "      <td>0.083333</td>\n",
       "      <td>No</td>\n",
       "      <td>12</td>\n",
       "      <td>0.080959</td>\n",
       "      <td>0.361940</td>\n",
       "      <td>0.026585</td>\n",
       "    </tr>\n",
       "    <tr>\n",
       "      <th>2</th>\n",
       "      <td>Alabama</td>\n",
       "      <td>9</td>\n",
       "      <td>3</td>\n",
       "      <td>12</td>\n",
       "      <td>0.750000</td>\n",
       "      <td>Yes</td>\n",
       "      <td>12</td>\n",
       "      <td>0.079146</td>\n",
       "      <td>0.369524</td>\n",
       "      <td>0.031872</td>\n",
       "    </tr>\n",
       "    <tr>\n",
       "      <th>3</th>\n",
       "      <td>Alabama-Birmingham</td>\n",
       "      <td>4</td>\n",
       "      <td>8</td>\n",
       "      <td>12</td>\n",
       "      <td>0.333333</td>\n",
       "      <td>No</td>\n",
       "      <td>12</td>\n",
       "      <td>0.099143</td>\n",
       "      <td>0.354662</td>\n",
       "      <td>0.007838</td>\n",
       "    </tr>\n",
       "    <tr>\n",
       "      <th>6</th>\n",
       "      <td>Arizona</td>\n",
       "      <td>7</td>\n",
       "      <td>5</td>\n",
       "      <td>12</td>\n",
       "      <td>0.583333</td>\n",
       "      <td>Yes</td>\n",
       "      <td>12</td>\n",
       "      <td>0.088999</td>\n",
       "      <td>0.348294</td>\n",
       "      <td>0.021175</td>\n",
       "    </tr>\n",
       "  </tbody>\n",
       "</table>\n",
       "</div>"
      ],
      "text/plain": [
       "                 Team  Win  Loss  Played       WLP Bowl_Eligible  degcen  \\\n",
       "0           Air Force    8     4      12  0.666667           Yes      12   \n",
       "1               Akron    1    11      12  0.083333            No      12   \n",
       "2             Alabama    9     3      12  0.750000           Yes      12   \n",
       "3  Alabama-Birmingham    4     8      12  0.333333            No      12   \n",
       "6             Arizona    7     5      12  0.583333           Yes      12   \n",
       "\n",
       "   eigencen  closecen  betweencen  \n",
       "0  0.098625  0.347670    0.016706  \n",
       "1  0.080959  0.361940    0.026585  \n",
       "2  0.079146  0.369524    0.031872  \n",
       "3  0.099143  0.354662    0.007838  \n",
       "6  0.088999  0.348294    0.021175  "
      ]
     },
     "execution_count": 17,
     "metadata": {},
     "output_type": "execute_result"
    }
   ],
   "source": [
    "# Removing all of the teams that played less than a full season\n",
    "FBS = record.loc[record['Played'] >= 9]\n",
    "FBS.head()"
   ]
  },
  {
   "cell_type": "markdown",
   "metadata": {},
   "source": [
    "### Testing for Differences in Centrality based on Bowl Eligibility\n",
    "Now that we found our centrality measures for the various teams we can construct a T-test to determine if there is a difference between the average centrality score for bowl eligible teams or if they are the same. We will also construct histograms for each of the to see if there are any interesting or unusual patterns in the data."
   ]
  },
  {
   "cell_type": "markdown",
   "metadata": {},
   "source": [
    "#### Degree Centrality\n",
    "$H_0 :$ There is no difference in the average degree centrality for bowl eligible teams vs teams that are not bowl eligible.\n",
    "\n",
    "$H_A :$ There is a difference in the degree centrality.\n",
    "\n",
    "From our T-test we find a test statistic of 1.38 and an p-value of 0.169. Therefore we fail to reject the null hypothesis and conclude that there is no difference in degree centrality between the two groups."
   ]
  },
  {
   "cell_type": "code",
   "execution_count": 29,
   "metadata": {
    "collapsed": false,
    "scrolled": true
   },
   "outputs": [
    {
     "data": {
      "text/plain": [
       "Ttest_indResult(statistic=1.3837024315977424, pvalue=0.16906151050227516)"
      ]
     },
     "execution_count": 29,
     "metadata": {},
     "output_type": "execute_result"
    },
    {
     "data": {
      "image/png": "[encoded data removed]",
      "text/plain": [
       "<matplotlib.figure.Figure at 0xd0ba780>"
      ]
     },
     "metadata": {},
     "output_type": "display_data"
    }
   ],
   "source": [
    "# Testing for differences in degree centrality based on bowl elligibility\n",
    "FBS['degcen'].hist(by = FBS['Bowl_Eligible'])\n",
    "stats.ttest_ind(FBS.loc[FBS['Bowl_Eligible'] == 'Yes', 'degcen'],\n",
    "                FBS.loc[FBS['Bowl_Eligible'] == 'No', 'degcen']) # No significant Difference"
   ]
  },
  {
   "cell_type": "markdown",
   "metadata": {},
   "source": [
    "#### Eigenvector Centrality\n",
    "$H_0 :$ There is no difference in the average eigenvector centrality for bowl eligible teams vs teams that are not bowl eligible.\n",
    "\n",
    "$H_A :$ There is a difference in the eigenvector centrality.\n",
    "\n",
    "From our T-test we find a test statistic of -1.782 and an p-value of 0.0772. Therefore we fail to reject the null hypothesis and conclude that there is no difference in eigenvector centrality between the two groups. However we do also note that at an $\\alpha$ level of .1 we would have a significant difference. This may be an interesting result to further explore in other years data. "
   ]
  },
  {
   "cell_type": "code",
   "execution_count": 22,
   "metadata": {
    "collapsed": false
   },
   "outputs": [
    {
     "data": {
      "text/plain": [
       "Ttest_indResult(statistic=-1.7824513546991834, pvalue=0.077247291509196223)"
      ]
     },
     "execution_count": 22,
     "metadata": {},
     "output_type": "execute_result"
    },
    {
     "data": {
      "image/png": "[encoded data removed]",
      "text/plain": [
       "<matplotlib.figure.Figure at 0xbbfaeb8>"
      ]
     },
     "metadata": {},
     "output_type": "display_data"
    }
   ],
   "source": [
    "# Testing for differences in eigenvalue centrality based on bowl eligibility\n",
    "FBS['eigencen'].hist(by = FBS['Bowl_Eligible'])\n",
    "stats.ttest_ind(FBS.loc[FBS['Bowl_Eligible'] == 'Yes', 'eigencen'],\n",
    "                FBS.loc[FBS['Bowl_Eligible'] == 'No', 'eigencen']) # No significant Difference"
   ]
  },
  {
   "cell_type": "markdown",
   "metadata": {},
   "source": [
    "#### Closness Centrality\n",
    "\n",
    "$H_0 :$  There is no difference in the average closness centrality for bowl eligible teams vs teams that are not bowl eligible.\n",
    "\n",
    "$H_A :$ There is a difference in the closness centrality.\n",
    "\n",
    "From our T-test we find a test statistic of 0.931 and an p-value of 0.354. Therefore we fail to reject the null hypothesis and conclude that there is no difference in closness centrality between the two groups."
   ]
  },
  {
   "cell_type": "code",
   "execution_count": 23,
   "metadata": {
    "collapsed": false
   },
   "outputs": [
    {
     "data": {
      "text/plain": [
       "Ttest_indResult(statistic=0.93121191466252662, pvalue=0.35364525274230718)"
      ]
     },
     "execution_count": 23,
     "metadata": {},
     "output_type": "execute_result"
    },
    {
     "data": {
      "image/png": "[encoded data removed]",
      "text/plain": [
       "<matplotlib.figure.Figure at 0xb61eba8>"
      ]
     },
     "metadata": {},
     "output_type": "display_data"
    }
   ],
   "source": [
    "# Testing for differences in closness centrality based on bowl eligibility\n",
    "FBS['closecen'].hist(by = FBS['Bowl_Eligible'])\n",
    "stats.ttest_ind(FBS.loc[FBS['Bowl_Eligible'] == 'Yes', 'closecen'],\n",
    "                FBS.loc[FBS['Bowl_Eligible'] == 'No', 'closecen']) # No significant Difference"
   ]
  },
  {
   "cell_type": "markdown",
   "metadata": {},
   "source": [
    "#### Betweenness Centrality\n",
    "\n",
    "$H_0 :$  There is no difference in the average betweenness centrality for bowl eligible teams vs teams that are not bowl eligible.\n",
    "\n",
    "$H_A :$ There is a difference in the betweenness centrality.\n",
    "\n",
    "From our T-test we find a test statistic of 2.967 and an p-value of 0.00364. Therefore we reject the null hypothesis and conclude that there is a difference in betweenness centrality between the two groups. We also can see from our histograms that teams with higher betweenness ratings are mor likely to make a bowl game."
   ]
  },
  {
   "cell_type": "code",
   "execution_count": 24,
   "metadata": {
    "collapsed": false
   },
   "outputs": [
    {
     "data": {
      "text/plain": [
       "Ttest_indResult(statistic=2.9671291823356158, pvalue=0.0036399740301946348)"
      ]
     },
     "execution_count": 24,
     "metadata": {},
     "output_type": "execute_result"
    },
    {
     "data": {
      "image/png": "[encoded data removed]",
      "text/plain": [
       "<matplotlib.figure.Figure at 0xcadfc18>"
      ]
     },
     "metadata": {},
     "output_type": "display_data"
    }
   ],
   "source": [
    "# Testing for differences in betweenness centrality based on bowl eligibility\n",
    "FBS['betweencen'].hist(by = FBS['Bowl_Eligible'])\n",
    "stats.ttest_ind(FBS.loc[FBS['Bowl_Eligible'] == 'Yes', 'betweencen'],\n",
    "                FBS.loc[FBS['Bowl_Eligible'] == 'No', 'betweencen']) # Significant Difference at alpha = 0.05"
   ]
  },
  {
   "cell_type": "markdown",
   "metadata": {},
   "source": [
    "### Drawing the Graph\n",
    "\n",
    "We finish up our analysis of the FBS data by constructing the graph for the regular season. We start off by trimming the teams away that do not play enough games in the season. This once again limits our graph to just the FBS teams. We start by constructing the graph in networkX but we can see that networkX lacks the ability to draw the graph in an easy to see format so we will also construct the graph in Gephi and import the image."
   ]
  },
  {
   "cell_type": "code",
   "execution_count": 18,
   "metadata": {
    "collapsed": true
   },
   "outputs": [],
   "source": [
    "# Function to trim the edges for non-FBS teams\n",
    "def trim_degrees(g, degree = 1):\n",
    "    g2 = g.copy()\n",
    "    d = nx.degree(g2)\n",
    "    for n in g2.nodes():\n",
    "        if d[n] <= degree:\n",
    "            g2.remove_node(n)\n",
    "    return g2"
   ]
  },
  {
   "cell_type": "code",
   "execution_count": 19,
   "metadata": {
    "collapsed": false
   },
   "outputs": [],
   "source": [
    "core = trim_degrees(G, degree = 3)"
   ]
  },
  {
   "cell_type": "code",
   "execution_count": 20,
   "metadata": {
    "collapsed": false
   },
   "outputs": [
    {
     "data": {
      "image/png": "[encoded data removed]",
      "text/plain": [
       "<matplotlib.figure.Figure at 0xb9e7c50>"
      ]
     },
     "metadata": {},
     "output_type": "display_data"
    }
   ],
   "source": [
    "nx.draw(core, with_labels=True)"
   ]
  },
  {
   "cell_type": "code",
   "execution_count": 21,
   "metadata": {
    "collapsed": true
   },
   "outputs": [],
   "source": [
    "# Writing the graph as a GEXF file.\n",
    "nx.write_gexf(core, 'd:/data/data620/FBS.gexf')"
   ]
  },
  {
   "cell_type": "markdown",
   "metadata": {},
   "source": [
    "Gephi Graph below. The Nodes in red are teams that are Bowl Eligible and the nodes in green were no bowl eligible. We can see from the graph that conference also has an impact in bowl eligibility. The conferences on the left side of the graph also tend to play more games with teams outside of their conferences. The three teams in the middle of the graph are independents."
   ]
  },
  {
   "cell_type": "markdown",
   "metadata": {},
   "source": [
    "![Image of the Gephi Graph](https://github.com/eriknylander99/DATA620/tree/master/Images \"2010 FBS Graph\")"
   ]
  },
  {
   "cell_type": "markdown",
   "metadata": {},
   "source": [
    " ### Conclusions\n",
    "When we started this project we had no real expectations about what we would be able to find in the data set. It was simply an interesting data set that about football, which I love. Ultimately we were able to find some interesting information, specifically that the betweenness centrality measure is a statistically significant predictor of a team's bowl eligibility. The value of the test statistic and the histograms lead us to believe that a team with a higher betweenness centrality has a higher chance to be bowl eligible. This implies that teams who serve as bridges between the different clusters, or FBS conferences, are more likely to be bowl eligible. This is an interesting and unexpected finding and warrants further study looking to see if this holds for other years. We also found that the eigenvector centrality also may have an impact on the bowl eligibility of teams. This is an interesting factor since no nodes are really any more central than others. However any team that played in a conference championship game had a 13 game season and we see that a number of bowl eligible teams came out of conferences that have a conference championship. This is another topic that would interesting for further study."
   ]
  }
 ],
 "metadata": {
  "anaconda-cloud": {},
  "kernelspec": {
   "display_name": "Python [Root]",
   "language": "python",
   "name": "Python [Root]"
  },
  "language_info": {
   "codemirror_mode": {
    "name": "ipython",
    "version": 2
   },
   "file_extension": ".py",
   "mimetype": "text/x-python",
   "name": "python",
   "nbconvert_exporter": "python",
   "pygments_lexer": "ipython2",
   "version": "2.7.12"
  }
 },
 "nbformat": 4,
 "nbformat_minor": 0
}
