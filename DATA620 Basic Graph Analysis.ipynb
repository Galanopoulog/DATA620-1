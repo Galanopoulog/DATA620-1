{
 "cells": [
  {
   "cell_type": "markdown",
   "metadata": {},
   "source": [
    "# DATA620 Basic Graph Analysis\n",
    "## Erik Nylander"
   ]
  },
  {
   "cell_type": "code",
   "execution_count": 1,
   "metadata": {
    "collapsed": true
   },
   "outputs": [],
   "source": [
    "# Loading needed packages\n",
    "%matplotlib inline\n",
    "import networkx as nx\n",
    "import pandas as pd"
   ]
  },
  {
   "cell_type": "markdown",
   "metadata": {},
   "source": [
    "For this weeks assignment we have selected some data from the Stanford Netwok Aanalysis Project on the scientific collaborations between authors whose papers were submitted to Astro Physics category of Arxiv. Each node on the graph is an author and each edge of the graph indicates that the authors collaborated on a given paper. We have downloaded and extracted the file into a text file. Working with the data we realized that there were issues with the connectedness of the graph when looking at the full set  of nodes adn edges. There were also 198,110 edges which we felt might be a little large to work with for this frist project. We have elected to look at the first 501 eleents of that data set. \n",
    "\n",
    "We took this data and generated a sample of the first 501 individuals. This is the data set that we will be loading for the assignment and can be found on my Github site. The data was origanally sourced from https://snap.stanford.edu/data/ca-AstroPh.html."
   ]
  },
  {
   "cell_type": "code",
   "execution_count": 8,
   "metadata": {
    "collapsed": false
   },
   "outputs": [],
   "source": [
    "# Reading the data into a pandas data frame\n",
    "data = pd.read_csv('https://raw.githubusercontent.com/eriknylander99/DATA620/master/data/CA-AstroPh-sample.csv', header = 0)"
   ]
  },
  {
   "cell_type": "markdown",
   "metadata": {},
   "source": [
    "Now that we have loaded the data lets take a look at the data. We see that there is a FromNodeId and a ToNodeId. These indicate the edges connecting two authors who have collaborated on a given work. Given that we have a subset of the originall data we see that our set contains 439 nodes whic represent the various authors and 496 edges that represent the collaborations that have occured on various papers. We also notice from the looking at the data that the suthors are listed in order so we have the full collaboration history for 7 authors and the 438 authors that they have collaborated with."
   ]
  },
  {
   "cell_type": "code",
   "execution_count": 9,
   "metadata": {
    "collapsed": false
   },
   "outputs": [
    {
     "data": {
      "text/html": [
       "<div>\n",
       "<table border=\"1\" class=\"dataframe\">\n",
       "  <thead>\n",
       "    <tr style=\"text-align: right;\">\n",
       "      <th></th>\n",
       "      <th>Unnamed: 0</th>\n",
       "      <th>FromNodeId</th>\n",
       "      <th>ToNodeId</th>\n",
       "    </tr>\n",
       "  </thead>\n",
       "  <tbody>\n",
       "    <tr>\n",
       "      <th>0</th>\n",
       "      <td>0</td>\n",
       "      <td>84424</td>\n",
       "      <td>276</td>\n",
       "    </tr>\n",
       "    <tr>\n",
       "      <th>1</th>\n",
       "      <td>1</td>\n",
       "      <td>84424</td>\n",
       "      <td>1662</td>\n",
       "    </tr>\n",
       "    <tr>\n",
       "      <th>2</th>\n",
       "      <td>2</td>\n",
       "      <td>84424</td>\n",
       "      <td>5089</td>\n",
       "    </tr>\n",
       "    <tr>\n",
       "      <th>3</th>\n",
       "      <td>3</td>\n",
       "      <td>84424</td>\n",
       "      <td>6058</td>\n",
       "    </tr>\n",
       "    <tr>\n",
       "      <th>4</th>\n",
       "      <td>4</td>\n",
       "      <td>84424</td>\n",
       "      <td>6229</td>\n",
       "    </tr>\n",
       "  </tbody>\n",
       "</table>\n",
       "</div>"
      ],
      "text/plain": [
       "   Unnamed: 0  FromNodeId  ToNodeId\n",
       "0           0       84424       276\n",
       "1           1       84424      1662\n",
       "2           2       84424      5089\n",
       "3           3       84424      6058\n",
       "4           4       84424      6229"
      ]
     },
     "execution_count": 9,
     "metadata": {},
     "output_type": "execute_result"
    }
   ],
   "source": [
    "# Generating a subset of the first 501 edges from the data.\n",
    "data.head()"
   ]
  },
  {
   "cell_type": "code",
   "execution_count": 14,
   "metadata": {
    "collapsed": false
   },
   "outputs": [
    {
     "data": {
      "text/plain": [
       "7"
      ]
     },
     "execution_count": 14,
     "metadata": {},
     "output_type": "execute_result"
    }
   ],
   "source": [
    "# Number of authors that we have the full records for.\n",
    "len(data.FromNodeId.unique())"
   ]
  },
  {
   "cell_type": "code",
   "execution_count": 15,
   "metadata": {
    "collapsed": false
   },
   "outputs": [
    {
     "data": {
      "text/plain": [
       "438"
      ]
     },
     "execution_count": 15,
     "metadata": {},
     "output_type": "execute_result"
    }
   ],
   "source": [
    "# Number of authors that our 7 authors have collaborated with.\n",
    "len(data.ToNodeId.unique())"
   ]
  },
  {
   "cell_type": "markdown",
   "metadata": {},
   "source": [
    "Now that we have our data in a pandas data frame we can use the built in feature of NetworkX that allows it to read a pandas data frame edge list."
   ]
  },
  {
   "cell_type": "code",
   "execution_count": 10,
   "metadata": {
    "collapsed": false
   },
   "outputs": [],
   "source": [
    "# Generating a network x from the edge list stored in pandas.\n",
    "G = nx.from_pandas_dataframe(data, 'FromNodeId', 'ToNodeId')"
   ]
  },
  {
   "cell_type": "markdown",
   "metadata": {},
   "source": [
    "Now that we have our graph object we can do some basic analysis of the graph. First we will check the number of nodes and edges in the graph. We do note that the import has resulted in our graph haveing 439 nodes and 496 edges. The discrepency between the length of the edge set that we imported and the resulting number of edges are a set of repeated edges that describe the authors connections in each direction."
   ]
  },
  {
   "cell_type": "code",
   "execution_count": 11,
   "metadata": {
    "collapsed": false
   },
   "outputs": [
    {
     "data": {
      "text/plain": [
       "439"
      ]
     },
     "execution_count": 11,
     "metadata": {},
     "output_type": "execute_result"
    }
   ],
   "source": [
    "# Number of nodes in the graph.\n",
    "nx.number_of_nodes(G)"
   ]
  },
  {
   "cell_type": "code",
   "execution_count": 12,
   "metadata": {
    "collapsed": false
   },
   "outputs": [
    {
     "data": {
      "text/plain": [
       "496"
      ]
     },
     "execution_count": 12,
     "metadata": {},
     "output_type": "execute_result"
    }
   ],
   "source": [
    "# Number of edges in the graph.\n",
    "nx.number_of_edges(G)"
   ]
  },
  {
   "cell_type": "markdown",
   "metadata": {},
   "source": [
    "We will use the built in diameter algorithm from NetworkX to find the diameter of our graph of authorship relationships. We find out that the diameter of our graph is a length of 6."
   ]
  },
  {
   "cell_type": "code",
   "execution_count": 17,
   "metadata": {
    "collapsed": false
   },
   "outputs": [
    {
     "data": {
      "text/plain": [
       "6"
      ]
     },
     "execution_count": 17,
     "metadata": {},
     "output_type": "execute_result"
    }
   ],
   "source": [
    "# Calculating the diameter of the graph using the built in NetworkX function.\n",
    "nx.diameter(G)"
   ]
  },
  {
   "cell_type": "markdown",
   "metadata": {},
   "source": [
    "Given that we are looking at the authorship of papers to the Astro Physics collaberation network we decided to see how many people does any given author tend to work with. To do this we found the degree of each node and averaged these values together. We have found that given our smaller sample. The average author collaborates with 2.26 other authors. We also decided that we would like to find out if there were any \"super\" collaborators that were worked with on a large number of papers. We elected to find authors that had collaborated with more than 20 other individuals. This found us 7 \"super\" authors and gave us author 10627 who has contributed with over 185 other authors."
   ]
  },
  {
   "cell_type": "code",
   "execution_count": 19,
   "metadata": {
    "collapsed": false
   },
   "outputs": [
    {
     "name": "stdout",
     "output_type": "stream",
     "text": [
      "2.25968109339\n"
     ]
    }
   ],
   "source": [
    "# Calculating the average number of \n",
    "num_neighbors = nx.degree(G)\n",
    "avg = 0\n",
    "for key in num_neighbors:\n",
    "    avg = avg + num_neighbors[key]\n",
    "print avg/float(len(num_neighbors))"
   ]
  },
  {
   "cell_type": "code",
   "execution_count": 20,
   "metadata": {
    "collapsed": false
   },
   "outputs": [
    {
     "data": {
      "text/plain": [
       "185"
      ]
     },
     "execution_count": 20,
     "metadata": {},
     "output_type": "execute_result"
    }
   ],
   "source": [
    "# Finding the maximum degree, what is the most number of papers that an author has been on?\n",
    "max(num_neighbors.values())"
   ]
  },
  {
   "cell_type": "code",
   "execution_count": 24,
   "metadata": {
    "collapsed": false
   },
   "outputs": [
    {
     "data": {
      "text/plain": [
       "{60471: 46,\n",
       " 63225: 27,\n",
       " 84424: 75,\n",
       " 89308: 32,\n",
       " 94138: 81,\n",
       " 106274: 185,\n",
       " 127393: 55}"
      ]
     },
     "execution_count": 24,
     "metadata": {},
     "output_type": "execute_result"
    }
   ],
   "source": [
    "{k:v for (k,v) in num_neighbors.items() if v > 20}"
   ]
  },
  {
   "cell_type": "markdown",
   "metadata": {},
   "source": [
    "Finally we will write out our graph as a .gefx file that we can then import into Gephi for visualization and further analysis."
   ]
  },
  {
   "cell_type": "code",
   "execution_count": 13,
   "metadata": {
    "collapsed": false
   },
   "outputs": [],
   "source": [
    "# Writing the graph as a GEXF file.\n",
    "nx.write_gexf(G, 'd:/data/data620/CA-AstroPh.gexf')"
   ]
  }
 ],
 "metadata": {
  "kernelspec": {
   "display_name": "Python [Root]",
   "language": "python",
   "name": "Python [Root]"
  },
  "language_info": {
   "codemirror_mode": {
    "name": "ipython",
    "version": 2
   },
   "file_extension": ".py",
   "mimetype": "text/x-python",
   "name": "python",
   "nbconvert_exporter": "python",
   "pygments_lexer": "ipython2",
   "version": "2.7.12"
  }
 },
 "nbformat": 4,
 "nbformat_minor": 0
}
